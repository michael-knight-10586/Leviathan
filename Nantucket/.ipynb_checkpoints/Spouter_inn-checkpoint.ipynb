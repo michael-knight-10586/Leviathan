{
 "cells": [
  {
   "cell_type": "markdown",
   "id": "4d797a34-a044-4ad5-9eb9-a52533892179",
   "metadata": {},
   "source": []
  },
  {
   "cell_type": "markdown",
   "id": "f4d4edaf-ec28-479a-a515-d94599885d94",
   "metadata": {},
   "source": [
    "Nantucket.ipynb, the interactive command-centre notebook: when run, the notebook reads the single YAML manifest that captures the Moby-Dick-themed directory plan, creates any folders and placeholder notebooks that are missing so your local OneDrive copy always matches that plan, checks that everything on disk still lines up with the manifest, and then regenerates human-readable documentation—a Markdown outline that includes an auto-rendered Mermaid diagram—so the project structure appears clearly in both GitHub (where the Markdown is rendered) and OneNote (with either the YAML or the diagram for easy reference). Because the whole Leviathan repository is cloned into Databricks Repos, Nantucket.ipynb travels with it; open the notebook inside an Azure Databricks workspace, run the same cells to scaffold or validate the structure there, and commit any changes straight back to GitHub. Edit the YAML manifest locally in JupyterLab, directly in Databricks, or in any text editor, rerunning Nantucket keeps every environment—OneDrive, GitHub, and Databricks—in lockstep.\n"
   ]
  },
  {
   "cell_type": "code",
   "execution_count": 2,
   "id": "822aea30-bb03-46cd-874e-1d96c05b1596",
   "metadata": {},
   "outputs": [
    {
     "name": "stdout",
     "output_type": "stream",
     "text": [
      "🟢  Structure created & manifest written.\n"
     ]
    }
   ],
   "source": [
    "# ── Cell 1 ── initialise structure + scaffold folders/notebooks\n",
    "import yaml, json, pathlib, datetime as _dt\n",
    "\n",
    "ROOT = pathlib.Path.cwd()                                 # expect notebook sits in C:\\Users\\mikek\\OneDrive\\Leviathan\n",
    "MANIFEST = ROOT / \"leviathan_directory_manifest.yml\"\n",
    "\n",
    "structure = {\n",
    "    \"Leviathan\": {\n",
    "        \"type\": \"directory\",\n",
    "        \"metaphor\": \"Leviathan\",\n",
    "        \"role\": \"Project root\",\n",
    "        \"notes\": \"\",\n",
    "        \"children\": {\n",
    "            \"Pequod\": {\n",
    "                \"type\": \"directory\",\n",
    "                \"metaphor\": \"Pequod\",\n",
    "                \"role\": \"Docs & notebooks hub\",\n",
    "                \"notes\": \"\",\n",
    "                \"children\": {\n",
    "                    \"Chartroom\": {\"type\": \"directory\", \"metaphor\": \"Chartroom\", \"role\": \"High-level overviews + env files\", \"notes\": \"\", \"children\": {}},\n",
    "                    \"Maps\":      {\"type\": \"directory\", \"metaphor\": \"Maps\",      \"role\": \"Detailed architecture diagrams\",   \"notes\": \"\", \"children\": {}},\n",
    "                    \"Logbook\":   {\"type\": \"directory\", \"metaphor\": \"Logbook\",   \"role\": \"Project diary & research notes\",  \"notes\": \"\", \"children\": {}},\n",
    "                },\n",
    "            },\n",
    "            \"Ocean\": {\n",
    "                \"type\": \"directory\",\n",
    "                \"metaphor\": \"Ocean\",\n",
    "                \"role\": \"Data lake\",\n",
    "                \"notes\": \"\",\n",
    "                \"children\": {\n",
    "                    \"England_1\": {\"type\": \"directory\", \"metaphor\": \"England_1\", \"role\": \"Premier League data\", \"notes\": \"\", \"children\": {}},\n",
    "                    \"England_2\": {\"type\": \"directory\", \"metaphor\": \"England_2\", \"role\": \"Championship data\",   \"notes\": \"\", \"children\": {}},\n",
    "                },\n",
    "            },\n",
    "            \"Armory\": {\n",
    "                \"type\": \"directory\",\n",
    "                \"metaphor\": \"Armory\",\n",
    "                \"role\": \"Feature-engineering pipelines\",\n",
    "                \"notes\": \"\",\n",
    "                \"children\": {\n",
    "                    \"Gam\": {\"type\": \"directory\", \"metaphor\": \"Gam\", \"role\": \"Cross-league utilities\", \"notes\": \"\", \"children\": {}},\n",
    "                    \"England_1\": {\n",
    "                        \"type\": \"directory\",\n",
    "                        \"metaphor\": \"England_1 (Armory)\",\n",
    "                        \"role\": \"League-specific transforms\",\n",
    "                        \"notes\": \"\",\n",
    "                        \"children\": {\n",
    "                            \"Spouter_inn\": {\"type\": \"directory\", \"metaphor\": \"Spouter_inn\", \"role\": \"Head-to-head & league tables\", \"notes\": \"\", \"children\": {}},\n",
    "                            \"Crows_nest\":  {\"type\": \"directory\", \"metaphor\": \"Crows_nest\",  \"role\": \"Rolling-form metrics\",          \"notes\": \"\", \"children\": {}},\n",
    "                            \"Whaleboat\":   {\"type\": \"directory\", \"metaphor\": \"Whaleboat\",   \"role\": \"Expected-points models\",        \"notes\": \"\", \"children\": {}},\n",
    "                            \"Tackle\":      {\"type\": \"directory\", \"metaphor\": \"Tackle\",      \"role\": \"Composite rankings\",            \"notes\": \"\", \"children\": {}},\n",
    "                        },\n",
    "                    },\n",
    "                },\n",
    "            },\n",
    "        },\n",
    "    }\n",
    "}\n",
    "\n",
    "def _ensure_ipynb(p: pathlib.Path):\n",
    "    if p.exists(): return\n",
    "    blank = {\"cells\": [], \"metadata\": {}, \"nbformat\": 4, \"nbformat_minor\": 5}\n",
    "    p.write_text(json.dumps(blank, indent=2))\n",
    "\n",
    "def _create(node: dict, base: pathlib.Path):\n",
    "    for name, meta in node.get(\"children\", {}).items():\n",
    "        path = base / name\n",
    "        if meta[\"type\"] == \"directory\":\n",
    "            path.mkdir(parents=True, exist_ok=True)\n",
    "            _create(meta, path)\n",
    "        elif meta[\"type\"] == \"file\":\n",
    "            if path.suffix == \".ipynb\": _ensure_ipynb(path)\n",
    "            else:                       path.touch(exist_ok=True)\n",
    "\n",
    "# write manifest (overwrite if empty)\n",
    "if MANIFEST.stat().st_size == 0:\n",
    "    MANIFEST.write_text(yaml.safe_dump(structure, sort_keys=False))\n",
    "\n",
    "# scaffold folders/notebooks\n",
    "_create(structure[\"Leviathan\"], ROOT)\n",
    "print(\"🟢  Structure created & manifest written.\")\n",
    "\n"
   ]
  },
  {
   "cell_type": "code",
   "execution_count": 3,
   "id": "fea54d73-f974-4546-b3ca-4e76630c4674",
   "metadata": {},
   "outputs": [
    {
     "name": "stdout",
     "output_type": "stream",
     "text": [
      "✅ structure matches manifest.\n"
     ]
    }
   ],
   "source": [
    "# ── Cell 2 ── quick validation check (run anytime)\n",
    "import yaml, pathlib, sys, json\n",
    "\n",
    "ROOT = pathlib.Path.cwd()\n",
    "MANIFEST = ROOT / \"leviathan_directory_manifest.yml\"\n",
    "manifest = yaml.safe_load(MANIFEST.read_text())\n",
    "\n",
    "def _validate(node, base):\n",
    "    ok = True\n",
    "    for name, meta in node.get(\"children\", {}).items():\n",
    "        path = base / name\n",
    "        if meta[\"type\"] == \"directory\":\n",
    "            if not path.is_dir():\n",
    "                print(f\"❌ missing folder {path.relative_to(ROOT)}\"); ok = False\n",
    "            ok &= _validate(meta, path)\n",
    "        elif meta[\"type\"] == \"file\":\n",
    "            if not path.is_file():\n",
    "                print(f\"❌ missing file {path.relative_to(ROOT)}\"); ok = False\n",
    "    return ok\n",
    "\n",
    "passed = _validate(manifest[\"Leviathan\"], ROOT)\n",
    "print(\"✅ structure matches manifest.\" if passed else \"⚠️  mismatch detected.\")\n"
   ]
  },
  {
   "cell_type": "code",
   "execution_count": 4,
   "id": "ba2cd92b-b710-48eb-8f4b-f070ad7d54b6",
   "metadata": {},
   "outputs": [
    {
     "name": "stdout",
     "output_type": "stream",
     "text": [
      "📝  docs/directory_map.md and docs/directory_glossary.md regenerated.\n"
     ]
    }
   ],
   "source": [
    "# ── Cell 3 ── generate docs (outline + table + Mermaid)\n",
    "import yaml, pathlib, textwrap, json\n",
    "\n",
    "ROOT      = pathlib.Path.cwd()\n",
    "MANIFEST  = ROOT / \"leviathan_directory_manifest.yml\"\n",
    "DOCS_DIR  = ROOT / \"Nantucket\"\n",
    "DOCS_DIR.mkdir(exist_ok=True)\n",
    "\n",
    "manifest  = yaml.safe_load(MANIFEST.read_text())[\"Leviathan\"]\n",
    "\n",
    "# -------------------------------- helpers --------------------------------\n",
    "def flatten(node, base=\"\"):\n",
    "    rows = []\n",
    "    for name, meta in node.get(\"children\", {}).items():\n",
    "        path = f\"{base}/{name}\".lstrip(\"/\")\n",
    "        rows.append((path, meta[\"metaphor\"], meta[\"role\"], meta[\"notes\"]))\n",
    "        rows += flatten(meta, path)\n",
    "    return rows\n",
    "\n",
    "rows = flatten(manifest)\n",
    "\n",
    "# 1. Markdown outline\n",
    "outline_lines = [\"# Leviathan Directory Map\\n\"]\n",
    "for path, metaphor, role, notes in rows:\n",
    "    depth = path.count(\"/\")\n",
    "    indent = \"  \" * depth\n",
    "    outline_lines.append(f\"{indent}- **{path.split('/')[-1]}/** – {role}  \")\n",
    "DOCS_DIR.joinpath(\"directory_map.md\").write_text(\"\\n\".join(outline_lines))\n",
    "\n",
    "# 2. Markdown table with Mermaid diagram\n",
    "table_lines = [\n",
    "    \"| Path | Metaphor | Intended Role | Notes |\",\n",
    "    \"|------|----------|---------------|-------|\",\n",
    "] + [\n",
    "    f\"| {p}/ | {m} | {r} | {n} |\" for p, m, r, n in rows\n",
    "]\n",
    "mermaid = [\"```mermaid\", \"graph TD\"]\n",
    "for p, m, _, _ in rows:\n",
    "    parts = p.split(\"/\")\n",
    "    if len(parts) == 1:\n",
    "        continue\n",
    "    parent = parts[-2] or \"Leviathan\"\n",
    "    mermaid.append(f\"  {parent.replace('/', '_')} --> {parts[-1].replace('/', '_')}\")\n",
    "mermaid.append(\"```\")\n",
    "\n",
    "DOCS_DIR.joinpath(\"directory_glossary.md\").write_text(\n",
    "    \"\\n\".join(table_lines) + \"\\n\\n\" + \"\\n\".join(mermaid)\n",
    ")\n",
    "\n",
    "print(\"📝  docs/directory_map.md and docs/directory_glossary.md regenerated.\")\n"
   ]
  },
  {
   "cell_type": "code",
   "execution_count": null,
   "id": "b5190d06-17cd-4eef-9321-0ae543f7d7d5",
   "metadata": {},
   "outputs": [],
   "source": []
  }
 ],
 "metadata": {
  "kernelspec": {
   "display_name": "Python 3 (ipykernel)",
   "language": "python",
   "name": "python3"
  },
  "language_info": {
   "codemirror_mode": {
    "name": "ipython",
    "version": 3
   },
   "file_extension": ".py",
   "mimetype": "text/x-python",
   "name": "python",
   "nbconvert_exporter": "python",
   "pygments_lexer": "ipython3",
   "version": "3.12.9"
  }
 },
 "nbformat": 4,
 "nbformat_minor": 5
}
